{
  "cells": [
    {
      "cell_type": "code",
      "execution_count": 49,
      "id": "eb60ef07-454a-44a4-b5d9-d660dce9f252",
      "metadata": {
        "scrolled": true,
        "trusted": true
      },
      "outputs": [],
      "source": [
        "# Python basic to advance code (complete)"
      ]
    },
    {
      "cell_type": "code",
      "execution_count": 50,
      "id": "1ab26c85-6873-4921-850e-2c7e1ee88e0e",
      "metadata": {
        "trusted": true
      },
      "outputs": [],
      "source": [
        "# BASICS"
      ]
    },
    {
      "cell_type": "code",
      "execution_count": null,
      "id": "86b846a3-943c-4b7f-96ec-257ecb56b675",
      "metadata": {
        "trusted": true
      },
      "outputs": [],
      "source": [
        "# Comments \n",
        "# comments are the lines which python does does not read and execute it"
      ]
    },
    {
      "cell_type": "code",
      "execution_count": 51,
      "id": "9da1644c-ee1f-45ae-9a95-60dcd456a4d1",
      "metadata": {
        "trusted": true
      },
      "outputs": [
        {
          "name": "stdout",
          "output_type": "stream",
          "text": [
            "5\n",
            "10\n"
          ]
        }
      ],
      "source": [
        "# Variables (variables are the containers where we can store some values)\n",
        "a  = 5  # 'a' is a variable where we stored the value 5\n",
        "var_1 = 10  # 'var_1' is a variable where we stored the value 10 \n",
        "\n",
        "# calling or printing the variables\n",
        "print(a)\n",
        "print(var_1)"
      ]
    },
    {
      "cell_type": "code",
      "execution_count": 63,
      "id": "243c6b33-b8fe-42f1-a7c0-537079de0cfe",
      "metadata": {
        "trusted": true
      },
      "outputs": [],
      "source": [
        "# Data types\n",
        "# integer, float, string and boolean are the data types in python\n",
        "a = 5   # '5' is an integer \n",
        "type(a)\n",
        "b = 'Python is the best language' #\"Python is the best language\" is the string because it involves characters or text and are written in '' or \"\"\n",
        "type(b)\n",
        "c = 5.678    # '5.678'  it's a decimal number, so in python the data type is float\n",
        "type(c)\n",
        "d = (3 == 3)"
      ]
    },
    {
      "cell_type": "code",
      "execution_count": null,
      "id": "18c90a13-69f2-4a73-8791-4e40aaef6b78",
      "metadata": {
        "trusted": true
      },
      "outputs": [],
      "source": [
        "b = 'Python is the best language' #\"Python is the best language\" is the string because it involves characters or text and are written in '' or \"\"\n",
        "type(b)"
      ]
    },
    {
      "cell_type": "code",
      "execution_count": null,
      "id": "85f6b9fa-6f03-49e2-b549-39effa261391",
      "metadata": {
        "trusted": true
      },
      "outputs": [],
      "source": [
        "c = 5.678    # '5.678'  it's a decimal number, so in python the data type is float\n",
        "type(c)"
      ]
    },
    {
      "cell_type": "code",
      "execution_count": 64,
      "id": "dfb2cbf2-ed30-4d0b-8e1d-e603a505c79f",
      "metadata": {
        "trusted": true
      },
      "outputs": [
        {
          "data": {
            "text/plain": [
              "bool"
            ]
          },
          "execution_count": 64,
          "metadata": {},
          "output_type": "execute_result"
        }
      ],
      "source": [
        "d = (3 == 3)  # boolean type gives the result in TRUE or FALSE\n",
        "type(d)"
      ]
    },
    {
      "cell_type": "code",
      "execution_count": 65,
      "id": "92955552-0285-43c9-8c7d-253006206e2c",
      "metadata": {
        "trusted": true
      },
      "outputs": [
        {
          "data": {
            "text/plain": [
              "complex"
            ]
          },
          "execution_count": 65,
          "metadata": {},
          "output_type": "execute_result"
        }
      ],
      "source": [
        "x = 3j  # '3j' is a complex number involving real and imainary part\n",
        "type(x)"
      ]
    },
    {
      "cell_type": "code",
      "execution_count": 75,
      "id": "63859922-1b0c-4ae4-9660-aa43febfe487",
      "metadata": {
        "trusted": true
      },
      "outputs": [],
      "source": [
        "# Input casting  (taking input from the user)"
      ]
    },
    {
      "cell_type": "code",
      "execution_count": 72,
      "id": "76c6a082-6a0e-4a43-ba59-09e66427c204",
      "metadata": {
        "trusted": true
      },
      "outputs": [
        {
          "name": "stdout",
          "output_type": "stream",
          "text": [
            "enter your age:  23\n"
          ]
        }
      ],
      "source": [
        "age  = input(\"enter your age: \")"
      ]
    },
    {
      "cell_type": "code",
      "execution_count": 73,
      "id": "b4a934c6-a308-4344-aff9-205c30c06557",
      "metadata": {
        "trusted": true
      },
      "outputs": [
        {
          "name": "stdout",
          "output_type": "stream",
          "text": [
            "enter your name:  syeda zainab fatima\n"
          ]
        }
      ],
      "source": [
        "Name = input(\"enter your name: \")"
      ]
    },
    {
      "cell_type": "code",
      "execution_count": 74,
      "id": "8735a7a5-d62b-4b97-ae2e-37368f5e5172",
      "metadata": {
        "trusted": true
      },
      "outputs": [
        {
          "name": "stdout",
          "output_type": "stream",
          "text": [
            "what is your qualification?  masters\n"
          ]
        }
      ],
      "source": [
        "Qualification = input(\"what is your qualification? \")"
      ]
    },
    {
      "cell_type": "code",
      "execution_count": null,
      "id": "521928b0-4e43-49b9-b250-d14e10acfe4b",
      "metadata": {
        "trusted": true
      },
      "outputs": [],
      "source": [
        "# Assignment operators"
      ]
    },
    {
      "cell_type": "code",
      "execution_count": 71,
      "id": "ebe5bfff-a43b-4679-a02f-aafa2d6efd84",
      "metadata": {
        "trusted": true
      },
      "outputs": [
        {
          "data": {
            "text/plain": [
              "13"
            ]
          },
          "execution_count": 71,
          "metadata": {},
          "output_type": "execute_result"
        }
      ],
      "source": [
        "10 + 3 # addition"
      ]
    },
    {
      "cell_type": "code",
      "execution_count": 14,
      "id": "8603b99e-f2d3-4ac4-aded-85614358b8f1",
      "metadata": {
        "trusted": true
      },
      "outputs": [
        {
          "data": {
            "text/plain": [
              "7"
            ]
          },
          "execution_count": 14,
          "metadata": {},
          "output_type": "execute_result"
        }
      ],
      "source": [
        "10 - 3 # subtraction"
      ]
    },
    {
      "cell_type": "code",
      "execution_count": 15,
      "id": "6c165d03-8cdf-49bc-92a8-6a9d4d475986",
      "metadata": {
        "trusted": true
      },
      "outputs": [
        {
          "data": {
            "text/plain": [
              "30"
            ]
          },
          "execution_count": 15,
          "metadata": {},
          "output_type": "execute_result"
        }
      ],
      "source": [
        "10 * 3 # multiplication"
      ]
    },
    {
      "cell_type": "code",
      "execution_count": 16,
      "id": "84380018-48c9-4fe1-93ec-04daa6a14157",
      "metadata": {
        "trusted": true
      },
      "outputs": [
        {
          "data": {
            "text/plain": [
              "3.3333333333333335"
            ]
          },
          "execution_count": 16,
          "metadata": {},
          "output_type": "execute_result"
        }
      ],
      "source": [
        "10 / 3 # division(quotient with decimal)"
      ]
    },
    {
      "cell_type": "code",
      "execution_count": 12,
      "id": "262f0c16-f8ac-4b4e-b236-e3860cd3c0e6",
      "metadata": {
        "trusted": true
      },
      "outputs": [
        {
          "data": {
            "text/plain": [
              "3"
            ]
          },
          "execution_count": 12,
          "metadata": {},
          "output_type": "execute_result"
        }
      ],
      "source": [
        "10 // 3 # division(quotient without decimal)"
      ]
    },
    {
      "cell_type": "code",
      "execution_count": 10,
      "id": "8814cb22-2b72-4bac-972e-f1045971f423",
      "metadata": {
        "trusted": true
      },
      "outputs": [
        {
          "data": {
            "text/plain": [
              "1"
            ]
          },
          "execution_count": 10,
          "metadata": {},
          "output_type": "execute_result"
        }
      ],
      "source": [
        "10 % 3 # remainder"
      ]
    },
    {
      "cell_type": "code",
      "execution_count": 17,
      "id": "1dbadf78-35d0-4a9c-aeae-81475d013248",
      "metadata": {
        "trusted": true
      },
      "outputs": [
        {
          "data": {
            "text/plain": [
              "9"
            ]
          },
          "execution_count": 17,
          "metadata": {},
          "output_type": "execute_result"
        }
      ],
      "source": [
        "10 ^ 3 # raised to the power"
      ]
    },
    {
      "cell_type": "code",
      "execution_count": 20,
      "id": "222b1075-37e3-40b4-99d9-e1b12a67aec7",
      "metadata": {
        "trusted": true
      },
      "outputs": [],
      "source": [
        "# Assignment operators"
      ]
    },
    {
      "cell_type": "code",
      "execution_count": 22,
      "id": "5470cba5-8dda-463b-b7cd-6aa50beb93ac",
      "metadata": {
        "trusted": true
      },
      "outputs": [
        {
          "name": "stdout",
          "output_type": "stream",
          "text": [
            "5\n"
          ]
        }
      ],
      "source": [
        "a = 5  # assigning a value \n",
        "print(a)"
      ]
    },
    {
      "cell_type": "code",
      "execution_count": 23,
      "id": "8a4f4384-2969-43f3-9730-ef7a1c2c89cf",
      "metadata": {
        "trusted": true
      },
      "outputs": [
        {
          "name": "stdout",
          "output_type": "stream",
          "text": [
            "5\n"
          ]
        }
      ],
      "source": [
        "b = 15 // 3\n",
        "print(b)"
      ]
    },
    {
      "cell_type": "code",
      "execution_count": 24,
      "id": "f271d289-f83e-4e60-8091-d913dad22828",
      "metadata": {
        "trusted": true
      },
      "outputs": [
        {
          "name": "stdout",
          "output_type": "stream",
          "text": [
            "0\n"
          ]
        }
      ],
      "source": [
        "x = 24 % 4\n",
        "print(x)"
      ]
    },
    {
      "cell_type": "code",
      "execution_count": 25,
      "id": "40c0d1e6-f716-41e4-8f97-e8ba2aee3063",
      "metadata": {
        "trusted": true
      },
      "outputs": [],
      "source": [
        "# Comparsion operators"
      ]
    },
    {
      "cell_type": "code",
      "execution_count": 27,
      "id": "ff088747-47c2-486b-bcb0-7a4fe2242064",
      "metadata": {
        "trusted": true
      },
      "outputs": [
        {
          "data": {
            "text/plain": [
              "True"
            ]
          },
          "execution_count": 27,
          "metadata": {},
          "output_type": "execute_result"
        }
      ],
      "source": [
        "3 == 3 # '==' shows the equality"
      ]
    },
    {
      "cell_type": "code",
      "execution_count": 28,
      "id": "b7abcc1b-5238-435d-b6fb-68e802494ece",
      "metadata": {
        "trusted": true
      },
      "outputs": [
        {
          "data": {
            "text/plain": [
              "False"
            ]
          },
          "execution_count": 28,
          "metadata": {},
          "output_type": "execute_result"
        }
      ],
      "source": [
        "3 != 3 # '!=' shows the inequality"
      ]
    },
    {
      "cell_type": "code",
      "execution_count": 29,
      "id": "f4bf2e9b-dc8d-493a-b642-1d5b4cb52bcb",
      "metadata": {
        "trusted": true
      },
      "outputs": [
        {
          "data": {
            "text/plain": [
              "True"
            ]
          },
          "execution_count": 29,
          "metadata": {},
          "output_type": "execute_result"
        }
      ],
      "source": [
        "4 > 3 # '>' shows greater than"
      ]
    },
    {
      "cell_type": "code",
      "execution_count": 30,
      "id": "ba2652c2-116e-45ec-bdc2-e97c73843a03",
      "metadata": {
        "trusted": true
      },
      "outputs": [
        {
          "data": {
            "text/plain": [
              "True"
            ]
          },
          "execution_count": 30,
          "metadata": {},
          "output_type": "execute_result"
        }
      ],
      "source": [
        "4 >= 3 # '>=' shows greater than or equal to"
      ]
    },
    {
      "cell_type": "code",
      "execution_count": 31,
      "id": "d59516c2-b5f5-4026-a321-225d5690e575",
      "metadata": {
        "trusted": true
      },
      "outputs": [
        {
          "data": {
            "text/plain": [
              "False"
            ]
          },
          "execution_count": 31,
          "metadata": {},
          "output_type": "execute_result"
        }
      ],
      "source": [
        "4 <= 3 # '<=' shows less than or equal to"
      ]
    },
    {
      "cell_type": "code",
      "execution_count": 32,
      "id": "e161767c-5cc3-433b-b12b-2dba93f2a7bc",
      "metadata": {
        "trusted": true
      },
      "outputs": [
        {
          "data": {
            "text/plain": [
              "False"
            ]
          },
          "execution_count": 32,
          "metadata": {},
          "output_type": "execute_result"
        }
      ],
      "source": [
        "4 < 3 # '<\" shows less than"
      ]
    },
    {
      "cell_type": "code",
      "execution_count": 33,
      "id": "62cfba8f-fb71-409a-979e-378bb438256c",
      "metadata": {
        "trusted": true
      },
      "outputs": [],
      "source": [
        "# Logical operators"
      ]
    },
    {
      "cell_type": "code",
      "execution_count": 34,
      "id": "12dd0fd8-5af0-4979-8e74-5275b305281a",
      "metadata": {
        "trusted": true
      },
      "outputs": [
        {
          "data": {
            "text/plain": [
              "False"
            ]
          },
          "execution_count": 34,
          "metadata": {},
          "output_type": "execute_result"
        }
      ],
      "source": [
        "(3 == 3) and (3 > 3) # 'and' condition shows that the both conditions should be true"
      ]
    },
    {
      "cell_type": "code",
      "execution_count": 35,
      "id": "52df565c-53ac-4262-9d89-f8a9e8cf67bc",
      "metadata": {
        "trusted": true
      },
      "outputs": [
        {
          "data": {
            "text/plain": [
              "True"
            ]
          },
          "execution_count": 35,
          "metadata": {},
          "output_type": "execute_result"
        }
      ],
      "source": [
        "(4 > 3) and (4 >= 3) # both conditions are true"
      ]
    },
    {
      "cell_type": "code",
      "execution_count": 42,
      "id": "a687b09e-7a18-4cfa-b6bf-0ca1f66d3e8b",
      "metadata": {
        "trusted": true
      },
      "outputs": [
        {
          "data": {
            "text/plain": [
              "True"
            ]
          },
          "execution_count": 42,
          "metadata": {},
          "output_type": "execute_result"
        }
      ],
      "source": [
        "(4 > 3) and (4 != 3)"
      ]
    },
    {
      "cell_type": "code",
      "execution_count": 41,
      "id": "b7d96380-7050-47b5-ba76-97404192f0de",
      "metadata": {
        "trusted": true
      },
      "outputs": [
        {
          "data": {
            "text/plain": [
              "False"
            ]
          },
          "execution_count": 41,
          "metadata": {},
          "output_type": "execute_result"
        }
      ],
      "source": [
        "(4 < 3) and (4 == 3)"
      ]
    },
    {
      "cell_type": "code",
      "execution_count": 39,
      "id": "82000530-b0c6-4b8e-8382-43961dfff34c",
      "metadata": {
        "trusted": true
      },
      "outputs": [
        {
          "data": {
            "text/plain": [
              "True"
            ]
          },
          "execution_count": 39,
          "metadata": {},
          "output_type": "execute_result"
        }
      ],
      "source": [
        "(15 > 20) or (15 == 15) # 'or' condition shows that minimun one condition should be true"
      ]
    },
    {
      "cell_type": "code",
      "execution_count": 40,
      "id": "4225da36-e2a9-4bba-b53f-34708f7c34cc",
      "metadata": {
        "trusted": true
      },
      "outputs": [
        {
          "data": {
            "text/plain": [
              "False"
            ]
          },
          "execution_count": 40,
          "metadata": {},
          "output_type": "execute_result"
        }
      ],
      "source": [
        "(15 > 20) or (15 != 15)"
      ]
    },
    {
      "cell_type": "code",
      "execution_count": 43,
      "id": "2558f582-814c-4f40-9333-b180ea13b300",
      "metadata": {
        "trusted": true
      },
      "outputs": [
        {
          "data": {
            "text/plain": [
              "True"
            ]
          },
          "execution_count": 43,
          "metadata": {},
          "output_type": "execute_result"
        }
      ],
      "source": [
        "(15 < 20) or (15 != 15)"
      ]
    },
    {
      "cell_type": "code",
      "execution_count": 44,
      "id": "196f261e-74f2-4b6a-8b85-34a069ae6f67",
      "metadata": {
        "trusted": true
      },
      "outputs": [
        {
          "data": {
            "text/plain": [
              "True"
            ]
          },
          "execution_count": 44,
          "metadata": {},
          "output_type": "execute_result"
        }
      ],
      "source": [
        "(15 < 20) or (15 == 15)"
      ]
    },
    {
      "cell_type": "code",
      "execution_count": 45,
      "id": "d0f35cea-9ca9-48db-8e47-60acc6906f20",
      "metadata": {
        "trusted": true
      },
      "outputs": [
        {
          "data": {
            "text/plain": [
              "False"
            ]
          },
          "execution_count": 45,
          "metadata": {},
          "output_type": "execute_result"
        }
      ],
      "source": [
        "not(15<20) # 'not' condition reverse the given condition"
      ]
    },
    {
      "cell_type": "code",
      "execution_count": 46,
      "id": "c1a02f31-fde1-4b09-831f-a9b8d93ca848",
      "metadata": {
        "trusted": true
      },
      "outputs": [
        {
          "data": {
            "text/plain": [
              "False"
            ]
          },
          "execution_count": 46,
          "metadata": {},
          "output_type": "execute_result"
        }
      ],
      "source": [
        "not(15 == 15)"
      ]
    },
    {
      "cell_type": "code",
      "execution_count": 47,
      "id": "3905e14c-52e0-49c8-8800-816cba14466e",
      "metadata": {
        "trusted": true
      },
      "outputs": [
        {
          "data": {
            "text/plain": [
              "True"
            ]
          },
          "execution_count": 47,
          "metadata": {},
          "output_type": "execute_result"
        }
      ],
      "source": [
        "not(15>20)"
      ]
    },
    {
      "cell_type": "code",
      "execution_count": 48,
      "id": "b0e2091e-da5e-415d-a646-7754046bccc4",
      "metadata": {
        "trusted": true
      },
      "outputs": [
        {
          "data": {
            "text/plain": [
              "True"
            ]
          },
          "execution_count": 48,
          "metadata": {},
          "output_type": "execute_result"
        }
      ],
      "source": [
        "not(4<3)"
      ]
    },
    {
      "cell_type": "code",
      "execution_count": 76,
      "id": "860da547-8707-45bc-bf2c-9494c8c6dae3",
      "metadata": {
        "trusted": true
      },
      "outputs": [],
      "source": [
        "# Type conversions"
      ]
    },
    {
      "cell_type": "code",
      "execution_count": 81,
      "id": "356032f2-1019-4a73-a349-c91c00f22299",
      "metadata": {
        "trusted": true
      },
      "outputs": [
        {
          "name": "stdout",
          "output_type": "stream",
          "text": [
            "23\n"
          ]
        },
        {
          "data": {
            "text/plain": [
              "int"
            ]
          },
          "execution_count": 81,
          "metadata": {},
          "output_type": "execute_result"
        }
      ],
      "source": [
        "a = \"23\"\n",
        "b = int(a)  # conversion of string to integer\n",
        "print(b)\n",
        "type(b)"
      ]
    },
    {
      "cell_type": "code",
      "execution_count": 83,
      "id": "a2be89d6-1201-434d-bbb5-322be5ce23f0",
      "metadata": {
        "trusted": true
      },
      "outputs": [
        {
          "name": "stdout",
          "output_type": "stream",
          "text": [
            "173.0\n"
          ]
        },
        {
          "data": {
            "text/plain": [
              "float"
            ]
          },
          "execution_count": 83,
          "metadata": {},
          "output_type": "execute_result"
        }
      ],
      "source": [
        "height = 173\n",
        "age_float = float(height) # conversion of integer to float\n",
        "print(age_float)\n",
        "type(age_float)"
      ]
    },
    {
      "cell_type": "code",
      "execution_count": 84,
      "id": "b38f9f35-bb96-499f-b272-6fec5db27ad1",
      "metadata": {
        "trusted": true
      },
      "outputs": [
        {
          "name": "stdout",
          "output_type": "stream",
          "text": [
            "23\n"
          ]
        },
        {
          "data": {
            "text/plain": [
              "str"
            ]
          },
          "execution_count": 84,
          "metadata": {},
          "output_type": "execute_result"
        }
      ],
      "source": [
        "age  = 23\n",
        "age_char = str(23)  # conversion of integer to string\n",
        "print(age_char)\n",
        "type(age_char)"
      ]
    },
    {
      "cell_type": "code",
      "execution_count": 86,
      "id": "0f88e710-4d7c-451a-9be1-3bc46de93a13",
      "metadata": {
        "trusted": true
      },
      "outputs": [
        {
          "name": "stdout",
          "output_type": "stream",
          "text": [
            "False\n",
            "True\n",
            "False\n",
            "True\n",
            "False\n",
            "True\n",
            "False\n"
          ]
        }
      ],
      "source": [
        "# Boolean conversions\n",
        "# 1. Numbers       \n",
        "print(bool(0))    # False (zero is False)\n",
        "print(bool(1))    # True (any other number is True)\n",
        "\n",
        "# 2. Strings\n",
        "print(bool(\"\"))   # False (empty string is False)\n",
        "print(bool(\"a\"))  # True (non-empty string is True)\n",
        "\n",
        "# 3. Lists\n",
        "print(bool([]))   # False (empty list is False)\n",
        "print(bool([1]))  # True (non-empty list is True)\n",
        "\n",
        "# 4. Special case\n",
        "print(bool(None)) # False (None is always False)"
      ]
    },
    {
      "cell_type": "code",
      "execution_count": 91,
      "id": "7babd1a2-650c-4e80-9fc5-4dc9d8582342",
      "metadata": {
        "trusted": true
      },
      "outputs": [
        {
          "name": "stdout",
          "output_type": "stream",
          "text": [
            "He/She is elligible for driving liscence\n"
          ]
        }
      ],
      "source": [
        "# Conditions (if-else, elif statements) (if-else,elif statements are the statements where specific conditions are applied)\n",
        "age = 18\n",
        "if age >= 18:\n",
        "    print(\"He/She is elligible for driving liscence\")\n",
        "else:\n",
        "    print(\"He/She is not elligible\")"
      ]
    },
    {
      "cell_type": "code",
      "execution_count": 112,
      "id": "6693dd31-14cd-456f-b9c1-5c8a8b631bc1",
      "metadata": {
        "trusted": true
      },
      "outputs": [
        {
          "name": "stdout",
          "output_type": "stream",
          "text": [
            "x is less than 5\n"
          ]
        }
      ],
      "source": [
        "x = 10 % 2\n",
        "if x > 5:\n",
        "    print(\"x is greater than 5\")\n",
        "elif x == 5:\n",
        "    print(\"x is 5\")\n",
        "else:\n",
        "    print(\"x is less than 5\")"
      ]
    },
    {
      "cell_type": "code",
      "execution_count": 104,
      "id": "0bc54619-c654-4b03-bcad-bbf48e2da7f7",
      "metadata": {
        "trusted": true
      },
      "outputs": [
        {
          "name": "stdout",
          "output_type": "stream",
          "text": [
            "Student will get an A grade\n"
          ]
        }
      ],
      "source": [
        "Marks = 90\n",
        "if Marks >= 85:\n",
        "    print(\"Student will get an A grade\")\n",
        "elif Marks >= 80:\n",
        "    print(\"Student will get A- grade\")\n",
        "elif Marks >=75:\n",
        "    print(\"Student will get B+ grade\")\n",
        "elif Marks >=70:\n",
        "    print(\"Student will get B grade\")\n",
        "elif Marks >= 65:\n",
        "    print(\"Student will get B- grade\")\n",
        "elif Marks >= 60:\n",
        "    print(\"Student will get C+ grade\")\n",
        "elif Marks >= 55:\n",
        "    print(\"Student will get C grade\")\n",
        "elif Marks >= 50:\n",
        "    print(\"Student will get C- grade\")\n",
        "elif Marks >= 45:\n",
        "    print(\"Student will get D grade\")\n",
        "elif Marks >= 40:\n",
        "    print(\"Student will get E grade\")\n",
        "else:\n",
        "    print(\"Student will get an F\")"
      ]
    },
    {
      "cell_type": "code",
      "execution_count": 116,
      "id": "7193f061-03f6-4595-a5c1-13460d7dbd42",
      "metadata": {
        "trusted": true
      },
      "outputs": [
        {
          "name": "stdout",
          "output_type": "stream",
          "text": [
            "1\n",
            "2\n",
            "3\n",
            "4\n",
            "5\n",
            "6\n",
            "7\n",
            "8\n",
            "9\n",
            "10\n"
          ]
        }
      ],
      "source": [
        "# Loops\n",
        "# For loop\n",
        "for i in range(1,11):   # printing number 1 to 10\n",
        "    print(i)\n"
      ]
    },
    {
      "cell_type": "code",
      "execution_count": 117,
      "id": "31b4ded0-9c3b-46a6-8811-3e9372625605",
      "metadata": {
        "trusted": true
      },
      "outputs": [
        {
          "name": "stdout",
          "output_type": "stream",
          "text": [
            "5\n",
            "6\n",
            "7\n",
            "8\n",
            "9\n",
            "10\n",
            "11\n",
            "12\n",
            "13\n",
            "14\n",
            "15\n",
            "16\n",
            "17\n",
            "18\n",
            "19\n"
          ]
        }
      ],
      "source": [
        "for i in range(5,20):  # printing numbers 5 to 19\n",
        "    print(i)"
      ]
    },
    {
      "cell_type": "code",
      "execution_count": 119,
      "id": "dc9da604-0d25-4208-a547-0acc9377faf2",
      "metadata": {
        "trusted": true
      },
      "outputs": [
        {
          "name": "stdout",
          "output_type": "stream",
          "text": [
            "mango\n",
            "bananas\n",
            "apples\n",
            "orange\n",
            "pineapples\n"
          ]
        }
      ],
      "source": [
        "# loop through a list of fruits\n",
        "fruits = [\"mango\" , \"bananas\", \"apples\" , \"orange\",\"pineapples\"]\n",
        "for fruit in fruits:\n",
        "    print(fruit)"
      ]
    },
    {
      "cell_type": "code",
      "execution_count": 120,
      "id": "96d48d10-9427-4468-941e-66f72b5041fa",
      "metadata": {
        "trusted": true
      },
      "outputs": [
        {
          "name": "stdout",
          "output_type": "stream",
          "text": [
            "1\n",
            "2\n",
            "3\n",
            "4\n",
            "5\n"
          ]
        }
      ],
      "source": [
        "# While loop\n",
        "count = 1    # Count from 1 to 5\n",
        "while count <= 5:\n",
        "    print(count)\n",
        "    count += 1"
      ]
    },
    {
      "cell_type": "code",
      "execution_count": 1,
      "id": "189fbc91-7431-43f9-9a35-3e30f39b87bd",
      "metadata": {
        "trusted": true
      },
      "outputs": [
        {
          "name": "stdout",
          "output_type": "stream",
          "text": [
            "10\n",
            "11\n",
            "12\n",
            "13\n",
            "14\n",
            "15\n"
          ]
        }
      ],
      "source": [
        "count = 10    # Count from 1 to 5\n",
        "while count <= 15:\n",
        "    print(count)\n",
        "    count += 1"
      ]
    },
    {
      "cell_type": "code",
      "execution_count": 38,
      "id": "11e6b6bc-08c5-44bf-acee-38b0b66cdba3",
      "metadata": {
        "trusted": true
      },
      "outputs": [
        {
          "name": "stdout",
          "output_type": "stream",
          "text": [
            "['mango', 'orange', 'apple']\n",
            "['mango', 'orange', 'apple', 'banana']\n",
            "['orange', 'apple', 'banana']\n",
            "orange\n",
            "banana\n"
          ]
        }
      ],
      "source": [
        "# lists (lists are mutable - can change)\n",
        "fruits = [\"mango\", \"orange\", \"apple\"]  # creating a list\n",
        "print(fruits)\n",
        "\n",
        "# adding an item to a list\n",
        "fruits.append(\"banana\")\n",
        "print(fruits)\n",
        "\n",
        "# removing an item from a list\n",
        "fruits.remove(\"mango\")\n",
        "print(fruits)\n",
        "\n",
        "# Access by index\n",
        "print(fruits[0])\n",
        "print(fruits[2])\n",
        "\n"
      ]
    },
    {
      "cell_type": "code",
      "execution_count": 47,
      "id": "2cad7f6b-289d-4bfe-be47-aeea7def005d",
      "metadata": {
        "trusted": true
      },
      "outputs": [
        {
          "name": "stdout",
          "output_type": "stream",
          "text": [
            "[1, 3, 2, 5, 7, 4]\n"
          ]
        },
        {
          "data": {
            "text/plain": [
              "[1, 2, 3, 4, 5, 7]"
            ]
          },
          "execution_count": 47,
          "metadata": {},
          "output_type": "execute_result"
        }
      ],
      "source": [
        "x = [1, 3, 2 ,5,7,4]\n",
        "print(x)\n",
        "sorted(x)\n"
      ]
    },
    {
      "cell_type": "code",
      "execution_count": 3,
      "id": "726ac7ed-918b-451c-8c4f-cc93dbebf846",
      "metadata": {
        "trusted": true
      },
      "outputs": [
        {
          "name": "stdout",
          "output_type": "stream",
          "text": [
            "('red', 'green', 'blue', 'yellow', 'pink', 'white')\n",
            "red\n",
            "yellow\n",
            "('red', 'green', 'blue', 'yellow', 'pink', 'white')\n",
            "('red', 'green', 'blue', 'yellow', 'pink', 'white')\n",
            "('red', 'green', 'blue', 'yellow', 'pink', 'white')\n",
            "('red', 'green', 'blue', 'yellow', 'pink', 'white')\n",
            "('red', 'green', 'blue', 'yellow', 'pink', 'white')\n",
            "('red', 'green', 'blue', 'yellow', 'pink', 'white')\n",
            "red\n",
            "green\n",
            "blue\n",
            "yellow\n",
            "pink\n",
            "white\n"
          ]
        }
      ],
      "source": [
        "# tuples (tuples are immutable - cannot change)\n",
        "colours = (\"red\", \"green\",\"blue\",\"yellow\",\"pink\",\"white\")    # create a tuple\n",
        "print(colours)\n",
        "\n",
        "# access by index\n",
        "print(colours[0])\n",
        "print(colours[3])\n",
        "\n",
        "# loop through tuple\n",
        "for colour in colours:\n",
        "    print(colours)\n",
        "for i in colours:\n",
        "    print(i)"
      ]
    },
    {
      "cell_type": "code",
      "execution_count": 4,
      "id": "d2176db8-b4a8-41c5-8957-62078b98423f",
      "metadata": {
        "trusted": true
      },
      "outputs": [
        {
          "name": "stdout",
          "output_type": "stream",
          "text": [
            "{'name': 'Saira', 'age': 23, 'grade': 'A'}\n",
            "Saira\n",
            "{'name': 'Saira', 'age': 21, 'city': 'New York'}\n"
          ]
        }
      ],
      "source": [
        "# dictionaries\n",
        "student = {\"name\" : \"Saira\" , \"age\" : 23 , \"grade\" : \"A\"}\n",
        "print(student)\n",
        "\n",
        "# access the dictionary\n",
        "print(student[\"name\"])\n",
        "\n",
        "# Add/Update a key-value pair\n",
        "student[\"age\"] = 21  \n",
        "student[\"city\"] = \"New York\"  \n",
        "\n",
        "# Remove a key\n",
        "del student[\"grade\"] \n",
        "\n",
        "print(student)"
      ]
    },
    {
      "cell_type": "code",
      "execution_count": 8,
      "id": "0a085878-26ba-4c3d-98e2-09e1a0d855b4",
      "metadata": {
        "trusted": true
      },
      "outputs": [
        {
          "name": "stdout",
          "output_type": "stream",
          "text": [
            "True\n",
            "{1, 3, 4, 5}\n"
          ]
        }
      ],
      "source": [
        "# sets\n",
        "unique_numbers = {1, 2, 3, 3, 4}  # Create a set\n",
        "\n",
        "# Add an item\n",
        "unique_numbers.add(5)  \n",
        "\n",
        "# Remove an item\n",
        "unique_numbers.discard(2)  \n",
        "\n",
        "# Check membership\n",
        "print(4 in unique_numbers)\n",
        "print(unique_numbers)"
      ]
    },
    {
      "cell_type": "code",
      "execution_count": 6,
      "id": "bf5e1c74-6739-4716-8595-965038723176",
      "metadata": {
        "trusted": true
      },
      "outputs": [
        {
          "name": "stdout",
          "output_type": "stream",
          "text": [
            "Welcome to GFG\n"
          ]
        }
      ],
      "source": [
        "# functions      \n",
        "def fun(): # defining the function\n",
        "    print(\"Welcome to GFG\")   \n",
        "fun()    # call a function"
      ]
    },
    {
      "cell_type": "code",
      "execution_count": 7,
      "id": "7cb2f849-c351-4e7d-a4c3-5854b099d0c8",
      "metadata": {
        "trusted": true
      },
      "outputs": [
        {
          "name": "stdout",
          "output_type": "stream",
          "text": [
            "Hello!\n"
          ]
        }
      ],
      "source": [
        "def greet():\n",
        "    print(\"Hello!\")\n",
        "greet()"
      ]
    },
    {
      "cell_type": "code",
      "execution_count": 9,
      "id": "faa4d5d3-b914-4bd3-b385-6cf5bece1590",
      "metadata": {
        "trusted": true
      },
      "outputs": [
        {
          "name": "stdout",
          "output_type": "stream",
          "text": [
            "Hello!\n",
            "Welcome to GFG\n"
          ]
        }
      ],
      "source": [
        "greet() # I called the defined function, i did'nt have to rewrite the whole code\n",
        "fun()"
      ]
    },
    {
      "cell_type": "code",
      "execution_count": 21,
      "id": "cf167163-cfdb-49ed-af60-e54ac3e94fea",
      "metadata": {
        "trusted": true
      },
      "outputs": [
        {
          "name": "stdout",
          "output_type": "stream",
          "text": [
            "Hello Alice!\n"
          ]
        }
      ],
      "source": [
        "# Functions with (input) parameters\n",
        "def greet(name):  # 'name' is a parameter\n",
        "    print( \"Hello\" ,name)\n",
        "greet(\"Alice!\")  # \"Alice is an argument"
      ]
    },
    {
      "cell_type": "code",
      "execution_count": 26,
      "id": "a89255e4-ec7a-4a61-bc12-e84ab375d1cc",
      "metadata": {
        "trusted": true
      },
      "outputs": [
        {
          "name": "stdout",
          "output_type": "stream",
          "text": [
            "29\n"
          ]
        }
      ],
      "source": [
        "# Function with return value\n",
        "def add_val(a ,b):\n",
        "    return(a+b)  # returns the value\n",
        "result = add_val(23,6)\n",
        "print(result)"
      ]
    },
    {
      "cell_type": "code",
      "execution_count": 30,
      "id": "79381b92-6915-4ef7-b4b4-4b9c5d497220",
      "metadata": {
        "trusted": true
      },
      "outputs": [
        {
          "data": {
            "text/plain": [
              "29"
            ]
          },
          "execution_count": 30,
          "metadata": {},
          "output_type": "execute_result"
        }
      ],
      "source": [
        "add_val(23,6) # calling the function"
      ]
    },
    {
      "cell_type": "code",
      "execution_count": 35,
      "id": "23bfcf47-e5e4-42cb-93e9-bae7cb8aeae1",
      "metadata": {
        "trusted": true
      },
      "outputs": [
        {
          "name": "stdout",
          "output_type": "stream",
          "text": [
            "16\n"
          ]
        }
      ],
      "source": [
        "def sqre_area(Side):\n",
        "    return(Side * Side)\n",
        "print(sqre_area(4))"
      ]
    }
  ],
  "metadata": {
    "kernelspec": {
      "display_name": "Python (Pyodide)",
      "language": "python",
      "name": "python"
    },
    "language_info": {
      "codemirror_mode": {
        "name": "python",
        "version": 3
      },
      "file_extension": ".py",
      "mimetype": "text/x-python",
      "name": "python",
      "nbconvert_exporter": "python",
      "pygments_lexer": "ipython3",
      "version": "3.8"
    }
  },
  "nbformat": 4,
  "nbformat_minor": 5
}
